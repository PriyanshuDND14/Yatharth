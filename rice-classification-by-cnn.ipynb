{
 "cells": [
  {
   "cell_type": "markdown",
   "metadata": {},
   "source": [
    "## <b> <span style='color:#2ae4f5'>|</span> Rice Variety Classification and Quality Evaluation Using Image Analysis </b> "
   ]
  },
  {
   "cell_type": "markdown",
   "metadata": {
    "execution": {
     "iopub.execute_input": "2023-08-14T19:17:39.967019Z",
     "iopub.status.busy": "2023-08-14T19:17:39.966306Z"
    }
   },
   "source": [
    "## <b>1 <span style='color:#2ae4f5'>|</span> Introduction </b> \n",
    "<div style=\"color:white;display:fill;border-radius:8px;\n",
    "            background-color:#03112A;font-size:150%;\n",
    "            letter-spacing:1.0px;background-image: url(https://i.imgur.com/GVd0La1.png)\">\n",
    "    <p style=\"padding: 8px;color:white;\"><b><b><span style='color:#2ae4f5''>1.1 |</span></b> Rice Variety Classification and Quality Evaluation Using Image Analysis </b></p>\n",
    "</div>\n",
    "        \n",
    "Rice, as one of the most prevalent grain crops globally, exhibits significant genetic diversity, resulting in various rice varieties. These varieties exhibit variations in essential characteristics such as **texture**, **shape**, and **color**. By harnessing these differentiating features, it becomes possible to accurately classify and assess the quality of rice seeds.\n",
    "\n",
    "This research initiative aims to **develop a robust image analysis system** capable of automatically identifying and categorizing different rice varieties based on their visual attributes. By employing advanced **machine learning techniques** and **deep neural networks**, the project endeavors to create a model that can accurately classify rice samples into the five target varieties.\n",
    "\n",
    "Additionally, the developed **image analysis model** can contribute to the broader field of **computer vision** and **pattern recognition**. The insights gained from this research can be applied to other **grain crops** and **agricultural products**, leading to advancements in **automated classification** and quality evaluation across various agricultural domains.\n",
    "\n",
    "In summary, the **Rice Variety Classification and Quality Evaluation project** utilizes a comprehensive dataset of 75,000 rice images to develop a state-of-the-art image analysis system. By accurately classifying and evaluating the quality attributes of five distinct rice varieties, this research aims to enhance rice production processes, support seed selection, and drive advancements in computer vision for agricultural applications. For more information about the dataset use the following Kaggle link:\n",
    "https://www.kaggle.com/datasets/muratkokludataset/rice-image-dataset"
   ]
  },
  {
   "cell_type": "markdown",
   "metadata": {},
   "source": [
    "\n",
    "## <b>2 <span style='color:#2ae4f5'>|</span> Import Libraries </b> "
   ]
  },
  {
   "cell_type": "markdown",
   "metadata": {},
   "source": []
  },
  {
   "cell_type": "code",
   "execution_count": 1,
   "metadata": {
    "_kg_hide-output": true,
    "execution": {
     "iopub.execute_input": "2024-02-01T10:39:22.866922Z",
     "iopub.status.busy": "2024-02-01T10:39:22.866530Z",
     "iopub.status.idle": "2024-02-01T10:39:39.379530Z",
     "shell.execute_reply": "2024-02-01T10:39:39.378674Z",
     "shell.execute_reply.started": "2024-02-01T10:39:22.866889Z"
    },
    "trusted": true
   },
   "outputs": [],
   "source": [
    "# import requirement libraries and tools\n",
    "import os\n",
    "from tensorflow import keras\n",
    "import numpy as np\n",
    "import pandas as pd\n",
    "import tensorflow as tf\n",
    "import matplotlib.pyplot as plt\n",
    "import seaborn as sns\n",
    "sns.set(style= \"darkgrid\", color_codes = True)\n",
    "from sklearn.model_selection import train_test_split\n",
    "from sklearn.preprocessing import LabelEncoder\n",
    "from tensorflow.keras.models import Sequential\n",
    "from tensorflow.keras.layers import Conv2D, MaxPooling2D, Dense, Flatten\n",
    "import warnings\n",
    "warnings.filterwarnings('ignore')"
   ]
  },
  {
   "cell_type": "markdown",
   "metadata": {},
   "source": [
    "## <b>3 <span style='color:#2ae4f5'>|</span> Create a dataframe with the Images and Label </b> "
   ]
  },
  {
   "cell_type": "code",
   "execution_count": 5,
   "metadata": {
    "execution": {
     "iopub.execute_input": "2024-02-01T10:39:39.381973Z",
     "iopub.status.busy": "2024-02-01T10:39:39.381396Z",
     "iopub.status.idle": "2024-02-01T10:39:42.683119Z",
     "shell.execute_reply": "2024-02-01T10:39:42.682258Z",
     "shell.execute_reply.started": "2024-02-01T10:39:39.381944Z"
    },
    "trusted": true
   },
   "outputs": [],
   "source": [
    "# Set the path to the dataset\n",
    "dataset_path = 'C:/Users/Vedaditya/Desktop/AI&ML/Yatharth- Rice breed classification/Rice_Image_Dataset'\n",
    "\n",
    "# Initialize empty lists for storing the images and labels\n",
    "images = []\n",
    "labels = []\n",
    "\n",
    "# Loop over the subfolders in the dataset\n",
    "for subfolder in os.listdir(dataset_path):\n",
    "    \n",
    "    subfolder_path = os.path.join(dataset_path, subfolder)\n",
    "    if not os.path.isdir(subfolder_path):\n",
    "        continue\n",
    "  \n",
    "  # Loop over the images in the subfolder\n",
    "    for image_filename in os.listdir(subfolder_path):\n",
    "       # Load the image and store it in the images list\n",
    "        image_path = os.path.join(subfolder_path, image_filename)\n",
    "        images.append(image_path)\n",
    "    \n",
    "        # Store the label for the image in the labels list\n",
    "        labels.append(subfolder)\n",
    " \n",
    " # Create a pandas DataFrame from the images and labels\n",
    "df = pd.DataFrame({'image': images, 'label': labels})"
   ]
  },
  {
   "cell_type": "markdown",
   "metadata": {},
   "source": [
    "## <b>4 <span style='color:#2ae4f5'>|</span> Visualization of Dataset </b> "
   ]
  },
  {
   "cell_type": "code",
   "execution_count": 6,
   "metadata": {
    "execution": {
     "iopub.execute_input": "2024-02-01T10:39:42.684645Z",
     "iopub.status.busy": "2024-02-01T10:39:42.684343Z",
     "iopub.status.idle": "2024-02-01T10:39:42.705248Z",
     "shell.execute_reply": "2024-02-01T10:39:42.704353Z",
     "shell.execute_reply.started": "2024-02-01T10:39:42.684612Z"
    },
    "trusted": true
   },
   "outputs": [
    {
     "data": {
      "text/html": [
       "<div>\n",
       "<style scoped>\n",
       "    .dataframe tbody tr th:only-of-type {\n",
       "        vertical-align: middle;\n",
       "    }\n",
       "\n",
       "    .dataframe tbody tr th {\n",
       "        vertical-align: top;\n",
       "    }\n",
       "\n",
       "    .dataframe thead th {\n",
       "        text-align: right;\n",
       "    }\n",
       "</style>\n",
       "<table border=\"1\" class=\"dataframe\">\n",
       "  <thead>\n",
       "    <tr style=\"text-align: right;\">\n",
       "      <th></th>\n",
       "      <th>image</th>\n",
       "      <th>label</th>\n",
       "    </tr>\n",
       "  </thead>\n",
       "  <tbody>\n",
       "    <tr>\n",
       "      <th>0</th>\n",
       "      <td>C:/Users/Vedaditya/Desktop/AI&amp;ML/Yatharth- Ric...</td>\n",
       "      <td>Rice_Image_Dataset</td>\n",
       "    </tr>\n",
       "    <tr>\n",
       "      <th>1</th>\n",
       "      <td>C:/Users/Vedaditya/Desktop/AI&amp;ML/Yatharth- Ric...</td>\n",
       "      <td>Rice_Image_Dataset</td>\n",
       "    </tr>\n",
       "    <tr>\n",
       "      <th>2</th>\n",
       "      <td>C:/Users/Vedaditya/Desktop/AI&amp;ML/Yatharth- Ric...</td>\n",
       "      <td>Rice_Image_Dataset</td>\n",
       "    </tr>\n",
       "    <tr>\n",
       "      <th>3</th>\n",
       "      <td>C:/Users/Vedaditya/Desktop/AI&amp;ML/Yatharth- Ric...</td>\n",
       "      <td>Rice_Image_Dataset</td>\n",
       "    </tr>\n",
       "    <tr>\n",
       "      <th>4</th>\n",
       "      <td>C:/Users/Vedaditya/Desktop/AI&amp;ML/Yatharth- Ric...</td>\n",
       "      <td>Rice_Image_Dataset</td>\n",
       "    </tr>\n",
       "  </tbody>\n",
       "</table>\n",
       "</div>"
      ],
      "text/plain": [
       "                                               image               label\n",
       "0  C:/Users/Vedaditya/Desktop/AI&ML/Yatharth- Ric...  Rice_Image_Dataset\n",
       "1  C:/Users/Vedaditya/Desktop/AI&ML/Yatharth- Ric...  Rice_Image_Dataset\n",
       "2  C:/Users/Vedaditya/Desktop/AI&ML/Yatharth- Ric...  Rice_Image_Dataset\n",
       "3  C:/Users/Vedaditya/Desktop/AI&ML/Yatharth- Ric...  Rice_Image_Dataset\n",
       "4  C:/Users/Vedaditya/Desktop/AI&ML/Yatharth- Ric...  Rice_Image_Dataset"
      ]
     },
     "execution_count": 6,
     "metadata": {},
     "output_type": "execute_result"
    }
   ],
   "source": [
    "df.head()"
   ]
  },
  {
   "cell_type": "code",
   "execution_count": 5,
   "metadata": {
    "execution": {
     "iopub.execute_input": "2024-02-01T10:39:42.707724Z",
     "iopub.status.busy": "2024-02-01T10:39:42.707437Z",
     "iopub.status.idle": "2024-02-01T10:39:43.139276Z",
     "shell.execute_reply": "2024-02-01T10:39:43.138378Z",
     "shell.execute_reply.started": "2024-02-01T10:39:42.707700Z"
    },
    "trusted": true
   },
   "outputs": [
    {
     "data": {
      "image/png": "[encoded data removed]",
      "text/plain": [
       "<Figure size 640x480 with 1 Axes>"
      ]
     },
     "metadata": {},
     "output_type": "display_data"
    }
   ],
   "source": [
    "# plot the classes\n",
    "ax = sns.countplot(x=df.label)\n",
    "\n",
    "# Set labels and titles\n",
    "ax.set_xlabel(\"Name of Class\")\n",
    "ax.set_ylabel(\"The Number Of Samples for each class\")\n",
    "\n",
    "# Rotate x-axis labels if needed\n",
    "plt.xticks(rotation=45)\n",
    "\n",
    "# Display the plot\n",
    "plt.show()"
   ]
  },
  {
   "cell_type": "code",
   "execution_count": null,
   "metadata": {
    "execution": {
     "iopub.execute_input": "2024-02-01T10:39:43.140892Z",
     "iopub.status.busy": "2024-02-01T10:39:43.140516Z",
     "iopub.status.idle": "2024-02-01T10:39:45.678903Z",
     "shell.execute_reply": "2024-02-01T10:39:45.677956Z",
     "shell.execute_reply.started": "2024-02-01T10:39:43.140857Z"
    },
    "trusted": true
   },
   "outputs": [
    {
     "ename": "PermissionError",
     "evalue": "[Errno 13] Permission denied: 'C:/Users/Vedaditya/Desktop/AI&ML/Yatharth- Rice breed classification/Rice_Image_Dataset\\\\Rice_Image_Dataset\\\\Arborio'",
     "output_type": "error",
     "traceback": [
      "\u001b[31m---------------------------------------------------------------------------\u001b[39m",
      "\u001b[31mPermissionError\u001b[39m                           Traceback (most recent call last)",
      "\u001b[36mCell\u001b[39m\u001b[36m \u001b[39m\u001b[32mIn[7]\u001b[39m\u001b[32m, line 14\u001b[39m\n\u001b[32m     12\u001b[39m \u001b[38;5;28;01mfor\u001b[39;00m j, filepath \u001b[38;5;129;01min\u001b[39;00m \u001b[38;5;28menumerate\u001b[39m(filepaths):\n\u001b[32m     13\u001b[39m     ax = fig.add_subplot(gs[i, j])\n\u001b[32m---> \u001b[39m\u001b[32m14\u001b[39m     ax.imshow(\u001b[43mplt\u001b[49m\u001b[43m.\u001b[49m\u001b[43mimread\u001b[49m\u001b[43m(\u001b[49m\u001b[43mfilepath\u001b[49m\u001b[43m)\u001b[49m)\n\u001b[32m     15\u001b[39m     ax.axis(\u001b[33m'\u001b[39m\u001b[33moff\u001b[39m\u001b[33m'\u001b[39m)\n\u001b[32m     17\u001b[39m \u001b[38;5;66;03m# Add a label to the bottom of the subplot grid\u001b[39;00m\n",
      "\u001b[36mFile \u001b[39m\u001b[32mc:\\Users\\Vedaditya\\Desktop\\AI&ML\\Yatharth- Rice breed classification\\myvenv\\Lib\\site-packages\\matplotlib\\pyplot.py:2607\u001b[39m, in \u001b[36mimread\u001b[39m\u001b[34m(fname, format)\u001b[39m\n\u001b[32m   2603\u001b[39m \u001b[38;5;129m@_copy_docstring_and_deprecators\u001b[39m(matplotlib.image.imread)\n\u001b[32m   2604\u001b[39m \u001b[38;5;28;01mdef\u001b[39;00m\u001b[38;5;250m \u001b[39m\u001b[34mimread\u001b[39m(\n\u001b[32m   2605\u001b[39m         fname: \u001b[38;5;28mstr\u001b[39m | pathlib.Path | BinaryIO, \u001b[38;5;28mformat\u001b[39m: \u001b[38;5;28mstr\u001b[39m | \u001b[38;5;28;01mNone\u001b[39;00m = \u001b[38;5;28;01mNone\u001b[39;00m\n\u001b[32m   2606\u001b[39m ) -> np.ndarray:\n\u001b[32m-> \u001b[39m\u001b[32m2607\u001b[39m     \u001b[38;5;28;01mreturn\u001b[39;00m \u001b[43mmatplotlib\u001b[49m\u001b[43m.\u001b[49m\u001b[43mimage\u001b[49m\u001b[43m.\u001b[49m\u001b[43mimread\u001b[49m\u001b[43m(\u001b[49m\u001b[43mfname\u001b[49m\u001b[43m,\u001b[49m\u001b[43m \u001b[49m\u001b[38;5;28;43mformat\u001b[39;49m\u001b[43m)\u001b[49m\n",
      "\u001b[36mFile \u001b[39m\u001b[32mc:\\Users\\Vedaditya\\Desktop\\AI&ML\\Yatharth- Rice breed classification\\myvenv\\Lib\\site-packages\\matplotlib\\image.py:1512\u001b[39m, in \u001b[36mimread\u001b[39m\u001b[34m(fname, format)\u001b[39m\n\u001b[32m   1505\u001b[39m \u001b[38;5;28;01mif\u001b[39;00m \u001b[38;5;28misinstance\u001b[39m(fname, \u001b[38;5;28mstr\u001b[39m) \u001b[38;5;129;01mand\u001b[39;00m \u001b[38;5;28mlen\u001b[39m(parse.urlparse(fname).scheme) > \u001b[32m1\u001b[39m:\n\u001b[32m   1506\u001b[39m     \u001b[38;5;66;03m# Pillow doesn't handle URLs directly.\u001b[39;00m\n\u001b[32m   1507\u001b[39m     \u001b[38;5;28;01mraise\u001b[39;00m \u001b[38;5;167;01mValueError\u001b[39;00m(\n\u001b[32m   1508\u001b[39m         \u001b[33m\"\u001b[39m\u001b[33mPlease open the URL for reading and pass the \u001b[39m\u001b[33m\"\u001b[39m\n\u001b[32m   1509\u001b[39m         \u001b[33m\"\u001b[39m\u001b[33mresult to Pillow, e.g. with \u001b[39m\u001b[33m\"\u001b[39m\n\u001b[32m   1510\u001b[39m         \u001b[33m\"\u001b[39m\u001b[33m``np.array(PIL.Image.open(urllib.request.urlopen(url)))``.\u001b[39m\u001b[33m\"\u001b[39m\n\u001b[32m   1511\u001b[39m         )\n\u001b[32m-> \u001b[39m\u001b[32m1512\u001b[39m \u001b[38;5;28;01mwith\u001b[39;00m \u001b[43mimg_open\u001b[49m\u001b[43m(\u001b[49m\u001b[43mfname\u001b[49m\u001b[43m)\u001b[49m \u001b[38;5;28;01mas\u001b[39;00m image:\n\u001b[32m   1513\u001b[39m     \u001b[38;5;28;01mreturn\u001b[39;00m (_pil_png_to_float_array(image)\n\u001b[32m   1514\u001b[39m             \u001b[38;5;28;01mif\u001b[39;00m \u001b[38;5;28misinstance\u001b[39m(image, PIL.PngImagePlugin.PngImageFile) \u001b[38;5;28;01melse\u001b[39;00m\n\u001b[32m   1515\u001b[39m             pil_to_array(image))\n",
      "\u001b[36mFile \u001b[39m\u001b[32mc:\\Users\\Vedaditya\\Desktop\\AI&ML\\Yatharth- Rice breed classification\\myvenv\\Lib\\site-packages\\PIL\\Image.py:3465\u001b[39m, in \u001b[36mopen\u001b[39m\u001b[34m(fp, mode, formats)\u001b[39m\n\u001b[32m   3462\u001b[39m     filename = os.fspath(fp)\n\u001b[32m   3464\u001b[39m \u001b[38;5;28;01mif\u001b[39;00m filename:\n\u001b[32m-> \u001b[39m\u001b[32m3465\u001b[39m     fp = \u001b[43mbuiltins\u001b[49m\u001b[43m.\u001b[49m\u001b[43mopen\u001b[49m\u001b[43m(\u001b[49m\u001b[43mfilename\u001b[49m\u001b[43m,\u001b[49m\u001b[43m \u001b[49m\u001b[33;43m\"\u001b[39;49m\u001b[33;43mrb\u001b[39;49m\u001b[33;43m\"\u001b[39;49m\u001b[43m)\u001b[49m\n\u001b[32m   3466\u001b[39m     exclusive_fp = \u001b[38;5;28;01mTrue\u001b[39;00m\n\u001b[32m   3467\u001b[39m \u001b[38;5;28;01melse\u001b[39;00m:\n",
      "\u001b[31mPermissionError\u001b[39m: [Errno 13] Permission denied: 'C:/Users/Vedaditya/Desktop/AI&ML/Yatharth- Rice breed classification/Rice_Image_Dataset\\\\Rice_Image_Dataset\\\\Arborio'"
     ]
    },
    {
     "data": {
      "image/png": "[encoded data removed]",
      "text/plain": [
       "<Figure size 1500x1500 with 1 Axes>"
      ]
     },
     "metadata": {},
     "output_type": "display_data"
    }
   ],
   "source": [
    "from matplotlib.gridspec import GridSpec\n",
    "# Create figure and grid of subplots\n",
    "fig = plt.figure(figsize=(15, 15))\n",
    "gs = GridSpec(5, 4, figure=fig)\n",
    "\n",
    "# Loop through each unique category in the DataFrame\n",
    "for i, category in enumerate(df['label'].unique()):\n",
    "    # Get the filepaths for the first four images in the category\n",
    "    filepaths = df[df['label'] == category]['image'].values[:4]\n",
    "    \n",
    "    # Loop through the filepaths and add an image to each subplot\n",
    "    for j, filepath in enumerate(filepaths):jiv9'-ij=9'ni=89 i0*b\\hy\n",
    "        ax = fig.add_subplot(gs[i, j]).lin90\n",
    "        ax.imshow(plt.imread(filepath))pbj./ljlboi./jl8hj/l8ikn0\n",
    "        ax.axis('off')\n",
    "    \n",
    "    # Add a label to the bottom of the subplot grid\n",
    "    ax.text(300, 100, category, fontsize=25, color='darkblue')\n",
    "\n",
    "plt.show()"
   ]
  },
  {
   "cell_type": "markdown",
   "metadata": {},
   "source": [
    "## <b>5 <span style='color:#2ae4f5'>|</span> Split Data into Train and Test </b> \n",
    "**I divided our data into two separate datasets:** the **training dataset** and the **testing dataset**. The training dataset consists of **80%** of the data, while the testing dataset contains the remaining **20%**.\n",
    "To facilitate the training process, I applied the **LabelEncoder to labels**. This process allowed us to convert the rice types' labels, namely **'Arborio'**, **'Basmati'**, **'Ipsala'**, **'Jasmine'**, and **'Karacadag'**, into numerical values. By assigning integer values to the labels, we enabled the utilization of these labels as target variables during the training of our machine learning model."
   ]
  },
  {
   "cell_type": "code",
   "execution_count": 7,
   "metadata": {
    "execution": {
     "iopub.execute_input": "2024-02-01T10:39:45.680304Z",
     "iopub.status.busy": "2024-02-01T10:39:45.680017Z",
     "iopub.status.idle": "2024-02-01T10:39:45.722968Z",
     "shell.execute_reply": "2024-02-01T10:39:45.722186Z",
     "shell.execute_reply.started": "2024-02-01T10:39:45.680278Z"
    },
    "trusted": true
   },
   "outputs": [],
   "source": [
    "# Split the data into training and testing sets\n",
    "X_train, X_test, y_train, y_test = train_test_split(df['image'], df['label'], test_size=0.2, random_state=42)\n",
    "\n",
    "# Create a dataframe for the training data\n",
    "df_train = pd.DataFrame({'image': X_train, 'label': y_train})\n",
    "\n",
    "# Create a dataframe for the test data\n",
    "df_test = pd.DataFrame({'image': X_test, 'label': y_test})\n",
    "\n",
    "# Encode the labels\n",
    "encoder = LabelEncoder()\n",
    "y_train = encoder.fit_transform(y_train)\n",
    "y_test = encoder.transform(y_test)"
   ]
  },
  {
   "cell_type": "markdown",
   "metadata": {},
   "source": [
    "## <b>6 <span style='color:#2ae4f5'>|</span> Data Augmentation </b> \n",
    "To streamline the preprocessing of our images, we took the following steps: \n",
    "- **we created generators for both the training and testing datasets.** These generators allow us to efficiently handle and manipulate the data during the training and testing phases.\n",
    "\n",
    "- **to enhance the diversity and robustness of our training data, we applied data augmentation techniques specifically to the training dataset.** This augmentation process introduces variations in the images by applying transformations such as rotation, scaling, and flipping. By doing so, we expand the dataset and enable our model to learn from a wider range of image variations.\n",
    "\n",
    "- **Additionally, we standardized the image dimensions by reshaping them to a uniform size of 50x50 pixels.** This resizing ensures that all images in the dataset have consistent dimensions, facilitating the subsequent processing and analysis stages.\n"
   ]
  },
  {
   "cell_type": "code",
   "execution_count": 18,
   "metadata": {
    "execution": {
     "iopub.execute_input": "2024-02-01T10:39:45.724436Z",
     "iopub.status.busy": "2024-02-01T10:39:45.724148Z",
     "iopub.status.idle": "2024-02-01T10:44:32.002379Z",
     "shell.execute_reply": "2024-02-01T10:44:32.001466Z",
     "shell.execute_reply.started": "2024-02-01T10:39:45.724412Z"
    },
    "trusted": true
   },
   "outputs": [
    {
     "name": "stdout",
     "output_type": "stream",
     "text": [
      "Found 0 validated image filenames belonging to 0 classes.\n",
      "Found 0 validated image filenames belonging to 0 classes.\n"
     ]
    }
   ],
   "source": [
    "from tensorflow.keras.preprocessing.image import ImageDataGenerator\n",
    "\n",
    "# Set the image size and batch size\n",
    "image_size = (50, 50)\n",
    "batch_size = 32\n",
    "\n",
    "# Create an ImageDataGenerator object with data augmentation options for image preprocessing\n",
    "datagen = ImageDataGenerator(\n",
    "    rescale=1./255,\n",
    "    rotation_range=45,\n",
    "    width_shift_range=0.2,\n",
    "    height_shift_range=0.2,\n",
    "    shear_range=0.2,\n",
    "    zoom_range=0.2,\n",
    "    horizontal_flip=True,\n",
    "    fill_mode='nearest'\n",
    ")\n",
    "\n",
    "\n",
    "# Create a generator for the training data\n",
    "train_generator = datagen.flow_from_dataframe(\n",
    "    df_train,\n",
    "    x_col='image',\n",
    "    y_col='label',\n",
    "    target_size=image_size,\n",
    "    batch_size=batch_size,\n",
    "    class_mode='categorical',\n",
    "    shuffle=True\n",
    ")\n",
    "\n",
    "# Create a generator for the test data\n",
    "test_generator = datagen.flow_from_dataframe(\n",
    "    df_test,\n",
    "    x_col='image',\n",
    "    y_col='label',\n",
    "    target_size=image_size,\n",
    "    batch_size=batch_size,\n",
    "    class_mode='categorical',\n",
    "    shuffle=False\n",
    ")"
   ]
  },
  {
   "cell_type": "markdown",
   "metadata": {},
   "source": [
    "## <b>6 <span style='color:#2ae4f5'>|</span> Training Model </b> "
   ]
  },
  {
   "cell_type": "code",
   "execution_count": 19,
   "metadata": {
    "execution": {
     "iopub.execute_input": "2024-02-01T10:44:32.003714Z",
     "iopub.status.busy": "2024-02-01T10:44:32.003430Z",
     "iopub.status.idle": "2024-02-01T10:44:37.862058Z",
     "shell.execute_reply": "2024-02-01T10:44:37.860984Z",
     "shell.execute_reply.started": "2024-02-01T10:44:32.003689Z"
    },
    "trusted": true
   },
   "outputs": [],
   "source": [
    "from keras.models import Sequential\n",
    "from keras.layers import Conv2D, MaxPooling2D, Flatten, Dense\n",
    "# Set the input shape for the model\n",
    "input_shape = (50, 50, 3)\n",
    "\n",
    "# Create a Sequential model\n",
    "model = Sequential()\n",
    "model.add(Conv2D(32, kernel_size=(3, 3), activation='relu', input_shape=input_shape))\n",
    "model.add(MaxPooling2D(pool_size=(2, 2)))\n",
    "model.add(Conv2D(64, kernel_size=(3, 3), activation='relu'))\n",
    "model.add(MaxPooling2D(pool_size=(2, 2)))\n",
    "model.add(Flatten())\n",
    "model.add(Dense(128, activation='relu'))\n",
    "model.add(Dense(5, activation='softmax'))"
   ]
  },
  {
   "cell_type": "code",
   "execution_count": 20,
   "metadata": {
    "execution": {
     "iopub.execute_input": "2024-02-01T10:44:37.863827Z",
     "iopub.status.busy": "2024-02-01T10:44:37.863438Z",
     "iopub.status.idle": "2024-02-01T10:44:37.880135Z",
     "shell.execute_reply": "2024-02-01T10:44:37.879328Z",
     "shell.execute_reply.started": "2024-02-01T10:44:37.863793Z"
    },
    "trusted": true
   },
   "outputs": [],
   "source": [
    "# Compile the model\n",
    "model.compile(loss='categorical_crossentropy', optimizer='adam', metrics=['accuracy'])"
   ]
  },
  {
   "cell_type": "code",
   "execution_count": 21,
   "metadata": {
    "execution": {
     "iopub.execute_input": "2024-02-01T11:14:15.785703Z",
     "iopub.status.busy": "2024-02-01T11:14:15.784741Z",
     "iopub.status.idle": "2024-02-01T11:32:36.438711Z",
     "shell.execute_reply": "2024-02-01T11:32:36.437780Z",
     "shell.execute_reply.started": "2024-02-01T11:14:15.785665Z"
    },
    "trusted": true
   },
   "outputs": [
    {
     "ename": "ValueError",
     "evalue": "The PyDataset has length 0",
     "output_type": "error",
     "traceback": [
      "\u001b[31m---------------------------------------------------------------------------\u001b[39m",
      "\u001b[31mValueError\u001b[39m                                Traceback (most recent call last)",
      "\u001b[36mCell\u001b[39m\u001b[36m \u001b[39m\u001b[32mIn[21]\u001b[39m\u001b[32m, line 2\u001b[39m\n\u001b[32m      1\u001b[39m \u001b[38;5;66;03m# Train the model on the training data\u001b[39;00m\n\u001b[32m----> \u001b[39m\u001b[32m2\u001b[39m history = \u001b[43mmodel\u001b[49m\u001b[43m.\u001b[49m\u001b[43mfit\u001b[49m\u001b[43m(\u001b[49m\u001b[43mtrain_generator\u001b[49m\u001b[43m,\u001b[49m\u001b[43mepochs\u001b[49m\u001b[43m=\u001b[49m\u001b[32;43m5\u001b[39;49m\u001b[43m,\u001b[49m\u001b[43mvalidation_data\u001b[49m\u001b[43m=\u001b[49m\u001b[43mtest_generator\u001b[49m\u001b[43m)\u001b[49m\n",
      "\u001b[36mFile \u001b[39m\u001b[32mc:\\Users\\Vedaditya\\Desktop\\AI&ML\\Yatharth- Rice breed classification\\myvenv\\Lib\\site-packages\\keras\\src\\utils\\traceback_utils.py:122\u001b[39m, in \u001b[36mfilter_traceback.<locals>.error_handler\u001b[39m\u001b[34m(*args, **kwargs)\u001b[39m\n\u001b[32m    119\u001b[39m     filtered_tb = _process_traceback_frames(e.__traceback__)\n\u001b[32m    120\u001b[39m     \u001b[38;5;66;03m# To get the full stack trace, call:\u001b[39;00m\n\u001b[32m    121\u001b[39m     \u001b[38;5;66;03m# `keras.config.disable_traceback_filtering()`\u001b[39;00m\n\u001b[32m--> \u001b[39m\u001b[32m122\u001b[39m     \u001b[38;5;28;01mraise\u001b[39;00m e.with_traceback(filtered_tb) \u001b[38;5;28;01mfrom\u001b[39;00m\u001b[38;5;250m \u001b[39m\u001b[38;5;28;01mNone\u001b[39;00m\n\u001b[32m    123\u001b[39m \u001b[38;5;28;01mfinally\u001b[39;00m:\n\u001b[32m    124\u001b[39m     \u001b[38;5;28;01mdel\u001b[39;00m filtered_tb\n",
      "\u001b[36mFile \u001b[39m\u001b[32mc:\\Users\\Vedaditya\\Desktop\\AI&ML\\Yatharth- Rice breed classification\\myvenv\\Lib\\site-packages\\keras\\src\\trainers\\data_adapters\\py_dataset_adapter.py:295\u001b[39m, in \u001b[36mPyDatasetAdapter.get_tf_dataset\u001b[39m\u001b[34m(self)\u001b[39m\n\u001b[32m    290\u001b[39m     batches = [\n\u001b[32m    291\u001b[39m         \u001b[38;5;28mself\u001b[39m._standardize_batch(\u001b[38;5;28mself\u001b[39m.py_dataset[i])\n\u001b[32m    292\u001b[39m         \u001b[38;5;28;01mfor\u001b[39;00m i \u001b[38;5;129;01min\u001b[39;00m \u001b[38;5;28mrange\u001b[39m(num_samples)\n\u001b[32m    293\u001b[39m     ]\n\u001b[32m    294\u001b[39m     \u001b[38;5;28;01mif\u001b[39;00m \u001b[38;5;28mlen\u001b[39m(batches) == \u001b[32m0\u001b[39m:\n\u001b[32m--> \u001b[39m\u001b[32m295\u001b[39m         \u001b[38;5;28;01mraise\u001b[39;00m \u001b[38;5;167;01mValueError\u001b[39;00m(\u001b[33m\"\u001b[39m\u001b[33mThe PyDataset has length 0\u001b[39m\u001b[33m\"\u001b[39m)\n\u001b[32m    296\u001b[39m     \u001b[38;5;28mself\u001b[39m._output_signature = data_adapter_utils.get_tensor_spec(batches)\n\u001b[32m    298\u001b[39m ds = tf.data.Dataset.from_generator(\n\u001b[32m    299\u001b[39m     \u001b[38;5;28mself\u001b[39m._get_iterator,\n\u001b[32m    300\u001b[39m     output_signature=\u001b[38;5;28mself\u001b[39m._output_signature,\n\u001b[32m    301\u001b[39m )\n",
      "\u001b[31mValueError\u001b[39m: The PyDataset has length 0"
     ]
    }
   ],
   "source": [
    "# Train the model on the training data\n",
    "history = model.fit(train_generator,epochs=5,validation_data=test_generator)"
   ]
  },
  {
   "cell_type": "markdown",
   "metadata": {},
   "source": [
    "## <b>8 <span style='color:#2ae4f5'>|</span> Evaluate The Model </b> "
   ]
  },
  {
   "cell_type": "code",
   "execution_count": null,
   "metadata": {
    "trusted": true
   },
   "outputs": [],
   "source": [
    "#Accuracy comparison between Validation and Train Data set\n",
    "plt.figure(figsize=(10,6))\n",
    "plt.plot(history['accuracy'],color=\"#E74C3C\",marker='o')\n",
    "plt.plot(history['val_accuracy'],color='#641E16',marker='h')\n",
    "plt.title('Accuracy comparison between Validation and Train Data set',fontsize=15)\n",
    "plt.ylabel('Accuracy')\n",
    "plt.xlabel('Epoch')\n",
    "plt.legend(['Train', 'Test'], loc='best')\n",
    "plt.show()"
   ]
  },
  {
   "cell_type": "code",
   "execution_count": null,
   "metadata": {
    "trusted": true
   },
   "outputs": [],
   "source": [
    "#Loss comparison between Validation and Train Data set\n",
    "plt.figure(figsize=(10,6))\n",
    "plt.plot(history['loss'],color=\"#E74C3C\",marker='o')\n",
    "plt.plot(history['val_loss'],color='#641E16',marker='h')\n",
    "plt.title('Loss comparison between Validation and Train Data set',fontsize=15)\n",
    "plt.ylabel('Accuracy')\n",
    "plt.xlabel('Epoch')\n",
    "plt.legend(['Train', 'Test'], loc='best')\n",
    "plt.show()"
   ]
  },
  {
   "cell_type": "code",
   "execution_count": 17,
   "metadata": {
    "execution": {
     "iopub.execute_input": "2024-02-01T11:35:30.012792Z",
     "iopub.status.busy": "2024-02-01T11:35:30.012432Z",
     "iopub.status.idle": "2024-02-01T11:36:11.229551Z",
     "shell.execute_reply": "2024-02-01T11:36:11.228532Z",
     "shell.execute_reply.started": "2024-02-01T11:35:30.012764Z"
    },
    "trusted": true
   },
   "outputs": [
    {
     "name": "stdout",
     "output_type": "stream",
     "text": [
      "469/469 [==============================] - 41s 88ms/step - loss: 0.0575 - accuracy: 0.9810\n",
      "Accuracy: 0.9810000061988831\n"
     ]
    }
   ],
   "source": [
    "# Evaluate the model on the test data\n",
    "metrics = model.evaluate(test_generator)\n",
    "# Print the accuracy of the model\n",
    "print('Accuracy:', metrics[1])"
   ]
  },
  {
   "cell_type": "markdown",
   "metadata": {},
   "source": [
    "## <b>9 <span style='color:#2ae4f5'>|</span> Save The Model </b> "
   ]
  },
  {
   "cell_type": "code",
   "execution_count": 4,
   "metadata": {
    "execution": {
     "iopub.execute_input": "2024-02-01T11:38:02.813863Z",
     "iopub.status.busy": "2024-02-01T11:38:02.812874Z",
     "iopub.status.idle": "2024-02-01T11:38:02.879924Z",
     "shell.execute_reply": "2024-02-01T11:38:02.878908Z",
     "shell.execute_reply.started": "2024-02-01T11:38:02.813817Z"
    },
    "trusted": true
   },
   "outputs": [
    {
     "ename": "NameError",
     "evalue": "name 'model' is not defined",
     "output_type": "error",
     "traceback": [
      "\u001b[31m---------------------------------------------------------------------------\u001b[39m",
      "\u001b[31mNameError\u001b[39m                                 Traceback (most recent call last)",
      "\u001b[36mCell\u001b[39m\u001b[36m \u001b[39m\u001b[32mIn[4]\u001b[39m\u001b[32m, line 2\u001b[39m\n\u001b[32m      1\u001b[39m \u001b[38;5;66;03m# Save the model\u001b[39;00m\n\u001b[32m----> \u001b[39m\u001b[32m2\u001b[39m \u001b[43mmodel\u001b[49m.save(\u001b[33m'\u001b[39m\u001b[33mCNN_model.h5\u001b[39m\u001b[33m'\u001b[39m)\n\u001b[32m      3\u001b[39m \u001b[38;5;28mprint\u001b[39m (\u001b[33m\"\u001b[39m\u001b[33mModel saved successfully!\u001b[39m\u001b[33m\"\u001b[39m)\n",
      "\u001b[31mNameError\u001b[39m: name 'model' is not defined"
     ]
    }
   ],
   "source": [
    "# Save the model\n",
    "model.save('CNN_model.h5')\n",
    "print (\"Model saved successfully!\")"
   ]
  }
 ],
 "metadata": {
  "kaggle": {
   "accelerator": "nvidiaTeslaT4",
   "dataSources": [
    {
     "datasetId": 2049052,
     "sourceId": 3399185,
     "sourceType": "datasetVersion"
    }
   ],
   "dockerImageVersionId": 30527,
   "isGpuEnabled": true,
   "isInternetEnabled": true,
   "language": "python",
   "sourceType": "notebook"
  },
  "kernelspec": {
   "display_name": "myvenv",
   "language": "python",
   "name": "python3"
  },
  "language_info": {
   "codemirror_mode": {
    "name": "ipython",
    "version": 3
   },
   "file_extension": ".py",
   "mimetype": "text/x-python",
   "name": "python",
   "nbconvert_exporter": "python",
   "pygments_lexer": "ipython3",
   "version": "3.11.8"
  }
 },
 "nbformat": 4,
 "nbformat_minor": 4
}
